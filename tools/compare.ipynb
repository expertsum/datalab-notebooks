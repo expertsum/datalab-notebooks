{
 "cells": [
  {
   "cell_type": "code",
   "execution_count": 50,
   "metadata": {
    "collapsed": false,
    "deletable": true,
    "editable": true
   },
   "outputs": [],
   "source": [
    "from pyspark.sql import SparkSession\n",
    "spark = SparkSession.builder.getOrCreate()\n",
    "\n",
    "def read_csv(file_url):\n",
    "  return (\n",
    "    spark\n",
    "      .read\n",
    "      .option('header', True)\n",
    "      .csv(file_url)\n",
    "  )\n",
    "\n",
    "file_a = read_csv('gs://artifacts.gcp-cloud-datalab.appspot.com/state-income-a.csv')\n",
    "file_b = read_csv('gs://artifacts.gcp-cloud-datalab.appspot.com/state-income-b.csv')"
   ]
  },
  {
   "cell_type": "code",
   "execution_count": 88,
   "metadata": {
    "collapsed": false,
    "deletable": true,
    "editable": true
   },
   "outputs": [],
   "source": [
    "import uuid\n",
    "from pyspark.sql.functions import hash, when, col, lit\n",
    "\n",
    "def compare(left, right, key, cols='*'):\n",
    "  if left.columns != right.columns:\n",
    "    raise AttributeError('The columns are different in the left and right dataframes.')\n",
    "    \n",
    "  if not isinstance(cols, list):\n",
    "    cols = left.columns\n",
    "\n",
    "  unique_id = str(uuid.uuid1().hex)\n",
    "  left_hash = unique_id+'_left'\n",
    "  right_hash = unique_id+'_right'\n",
    "  comp_result = unique_id+'_result'\n",
    "  comp_side = unique_id+'_side'\n",
    "  \n",
    "  comp_left = (\n",
    "    left\n",
    "      .withColumn(left_hash, hash(*cols))\n",
    "      .select(*key, left_hash)\n",
    "  )\n",
    "  \n",
    "  comp_right = (\n",
    "    right\n",
    "      .withColumn(right_hash, hash(*cols))\n",
    "      .select(*key, right_hash)\n",
    "  )\n",
    "  \n",
    "  comp = (\n",
    "    comp_left\n",
    "      .join(comp_right, on=key, how='full_outer')\n",
    "      .withColumn(comp_result,\n",
    "                   when(col(left_hash).isNull(), 'ONLY_RIGHT')\n",
    "                  .when(col(right_hash).isNull(), 'ONLY_LEFT')\n",
    "                  .when(col(left_hash) != col(right_hash), 'DIFFERENT')\n",
    "                  .otherwise('IDENTICAL')\n",
    "                 )\n",
    "  )\n",
    "  \n",
    "  result_left = (\n",
    "    left\n",
    "      .join(comp.select(*key, comp_result), on=key, how='inner')\n",
    "      .withColumn(comp_side, lit('LEFT'))\n",
    "  )\n",
    "  \n",
    "  result_right = (\n",
    "    right\n",
    "      .join(comp.select(*key, comp_result), on=key, how='inner')\n",
    "      .withColumn(comp_side, lit('RIGHT'))\n",
    "  )\n",
    "  \n",
    "  result = (\n",
    "    result_left\n",
    "      .union(result_right)\n",
    "      .withColumnRenamed(comp_result, 'COMPARISON')\n",
    "      .withColumnRenamed(comp_side, 'SIDE')\n",
    "  )\n",
    "  \n",
    "  return result"
   ]
  },
  {
   "cell_type": "code",
   "execution_count": 93,
   "metadata": {
    "collapsed": false,
    "deletable": true,
    "editable": true
   },
   "outputs": [
    {
     "name": "stdout",
     "output_type": "stream",
     "text": [
      "+----+-----------+------+------+------+------+------+----------+-----+\n",
      "|Rank|      State|  2014|  2010|  2009|  2007|  2000|COMPARISON| SIDE|\n",
      "+----+-----------+------+------+------+------+------+----------+-----+\n",
      "|   4|Connecticut|$65753|$66953|$68460|$81333|$67639| DIFFERENT| LEFT|\n",
      "|   4|Connecticut|  null|$66953|$68460|$81333|$67639| DIFFERENT|RIGHT|\n",
      "+----+-----------+------+------+------+------+------+----------+-----+\n",
      "\n"
     ]
    }
   ],
   "source": [
    "result = compare(file_a, file_b, ['Rank', 'State'], cols=['2014'])\n",
    "result.where(result.COMPARISON == 'DIFFERENT').show()"
   ]
  }
 ],
 "metadata": {
  "kernelspec": {
   "display_name": "Python 3",
   "language": "python",
   "name": "python3"
  },
  "language_info": {
   "codemirror_mode": {
    "name": "ipython",
    "version": 3
   },
   "file_extension": ".py",
   "mimetype": "text/x-python",
   "name": "python",
   "nbconvert_exporter": "python",
   "pygments_lexer": "ipython3",
   "version": "3.5.5"
  }
 },
 "nbformat": 4,
 "nbformat_minor": 2
}
